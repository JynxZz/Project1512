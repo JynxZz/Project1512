{
 "cells": [
  {
   "cell_type": "code",
   "execution_count": 35,
   "metadata": {},
   "outputs": [],
   "source": [
    "# Imports\n",
    "from google.cloud import storage\n",
    "import os\n",
    "import pandas as pd\n",
    "import numpy as np\n",
    "import tensorflow as tf\n",
    "from tensorflow.keras.models import Sequential\n",
    "from tensorflow.keras.layers import Conv2D, MaxPooling2D, Dense, Flatten\n",
    "\n",
    "# Variables\n",
    "CUR_DIR = os.getcwd()\n",
    "DATA_DIR = os.path.join(CUR_DIR, \"data\")\n",
    "\n",
    "RAW_DATA = os.path.join(DATA_DIR, \"raw_data\")\n",
    "DATA_CLEAN = os.path.join(DATA_DIR, \"data_clean\")\n",
    "\n",
    "BUCKET_NAME = \"test_boobies\"\n",
    "METADATA = pd.read_excel(os.path.join(DATA_DIR, \"metadata.xlsx\"))\n",
    "\n",
    "BATCH_SIZE = 64\n",
    "EPOCHS = 5\n",
    "DIM = 64"
   ]
  },
  {
   "cell_type": "code",
   "execution_count": 9,
   "metadata": {},
   "outputs": [
    {
     "data": {
      "text/html": [
       "<div>\n",
       "<style scoped>\n",
       "    .dataframe tbody tr th:only-of-type {\n",
       "        vertical-align: middle;\n",
       "    }\n",
       "\n",
       "    .dataframe tbody tr th {\n",
       "        vertical-align: top;\n",
       "    }\n",
       "\n",
       "    .dataframe thead th {\n",
       "        text-align: right;\n",
       "    }\n",
       "</style>\n",
       "<table border=\"1\" class=\"dataframe\">\n",
       "  <thead>\n",
       "    <tr style=\"text-align: right;\">\n",
       "      <th></th>\n",
       "      <th>image_id</th>\n",
       "      <th>path</th>\n",
       "      <th>cancer</th>\n",
       "    </tr>\n",
       "  </thead>\n",
       "  <tbody>\n",
       "    <tr>\n",
       "      <th>0</th>\n",
       "      <td>1000030932</td>\n",
       "      <td>gs://mammo_data/1000030932.jpg</td>\n",
       "      <td>0</td>\n",
       "    </tr>\n",
       "    <tr>\n",
       "      <th>1</th>\n",
       "      <td>1000049233</td>\n",
       "      <td>gs://mammo_data/1000049233.jpg</td>\n",
       "      <td>0</td>\n",
       "    </tr>\n",
       "    <tr>\n",
       "      <th>2</th>\n",
       "      <td>1000066573</td>\n",
       "      <td>gs://mammo_data/1000066573.jpg</td>\n",
       "      <td>0</td>\n",
       "    </tr>\n",
       "    <tr>\n",
       "      <th>3</th>\n",
       "      <td>1000069257</td>\n",
       "      <td>gs://mammo_data/1000069257.jpg</td>\n",
       "      <td>0</td>\n",
       "    </tr>\n",
       "    <tr>\n",
       "      <th>4</th>\n",
       "      <td>1000108611</td>\n",
       "      <td>gs://mammo_data/1000108611.jpg</td>\n",
       "      <td>0</td>\n",
       "    </tr>\n",
       "  </tbody>\n",
       "</table>\n",
       "</div>"
      ],
      "text/plain": [
       "     image_id                            path  cancer\n",
       "0  1000030932  gs://mammo_data/1000030932.jpg       0\n",
       "1  1000049233  gs://mammo_data/1000049233.jpg       0\n",
       "2  1000066573  gs://mammo_data/1000066573.jpg       0\n",
       "3  1000069257  gs://mammo_data/1000069257.jpg       0\n",
       "4  1000108611  gs://mammo_data/1000108611.jpg       0"
      ]
     },
     "execution_count": 9,
     "metadata": {},
     "output_type": "execute_result"
    }
   ],
   "source": [
    "df = pd.read_csv(\"gs://mammo_data/ready_to_train.csv\")\n",
    "df.head()"
   ]
  },
  {
   "cell_type": "code",
   "execution_count": 22,
   "metadata": {},
   "outputs": [
    {
     "data": {
      "text/plain": [
       "cancer\n",
       "0    0.978834\n",
       "1    0.021166\n",
       "Name: proportion, dtype: float64"
      ]
     },
     "execution_count": 22,
     "metadata": {},
     "output_type": "execute_result"
    }
   ],
   "source": [
    "df.cancer.value_counts(normalize= True)"
   ]
  },
  {
   "cell_type": "code",
   "execution_count": 10,
   "metadata": {},
   "outputs": [],
   "source": [
    "split = .8"
   ]
  },
  {
   "cell_type": "code",
   "execution_count": 12,
   "metadata": {},
   "outputs": [
    {
     "data": {
      "text/plain": [
       "((1158, 3), (53552, 3))"
      ]
     },
     "execution_count": 12,
     "metadata": {},
     "output_type": "execute_result"
    }
   ],
   "source": [
    "cancer = df[df.cancer == 1]\n",
    "no_cancer = df[df.cancer == 0]\n",
    "cancer.shape, no_cancer.shape"
   ]
  },
  {
   "cell_type": "code",
   "execution_count": 20,
   "metadata": {},
   "outputs": [
    {
     "data": {
      "text/plain": [
       "((24318, 3), (1158, 3), (53552, 3), (25000, 3))"
      ]
     },
     "execution_count": 20,
     "metadata": {},
     "output_type": "execute_result"
    }
   ],
   "source": [
    "cancer = df[df.cancer == 1].copy()\n",
    "augmentation_cancer = cancer._append([cancer] * 20, ignore_index= True)\n",
    "no_cancer = df[df.cancer == 0].copy()\n",
    "no_cancer_50 = no_cancer.iloc[ : 25_000]\n",
    "augmentation_cancer.shape, cancer.shape, no_cancer.shape, no_cancer_50.shape"
   ]
  },
  {
   "cell_type": "code",
   "execution_count": 27,
   "metadata": {},
   "outputs": [
    {
     "data": {
      "text/plain": [
       "(20844, 3)"
      ]
     },
     "execution_count": 27,
     "metadata": {},
     "output_type": "execute_result"
    }
   ],
   "source": [
    "tester = cancer._append([cancer] * 17, ignore_index= True)\n",
    "tester.shape"
   ]
  },
  {
   "cell_type": "code",
   "execution_count": null,
   "metadata": {},
   "outputs": [],
   "source": [
    "cancer_split = int(cancer.shape[0] * split)\n",
    "no_cancer_split = int(no_cancer.shape[0] * split)\n",
    "cancer_split, no_cancer_split"
   ]
  },
  {
   "cell_type": "code",
   "execution_count": null,
   "metadata": {},
   "outputs": [],
   "source": [
    "cancer_train = cancer.sample(frac= 1.0, replace= True, random_state= 4212).iloc[ : cancer_split]\n",
    "cancer_test = cancer.sample(frac= 1.0, replace= True, random_state= 4212).iloc[cancer_split : ]\n",
    "no_cancer_train = no_cancer.sample(frac= 1.0, replace= True, random_state= 4212).iloc[ : no_cancer_split]\n",
    "no_cancer_test = no_cancer.sample(frac= 1.0, replace= True, random_state= 4212).iloc[no_cancer_split : ]"
   ]
  },
  {
   "cell_type": "code",
   "execution_count": null,
   "metadata": {},
   "outputs": [],
   "source": [
    "cancer_train.shape, cancer_test.shape, no_cancer_train.shape, no_cancer_test.shape"
   ]
  },
  {
   "cell_type": "code",
   "execution_count": null,
   "metadata": {},
   "outputs": [],
   "source": [
    "data_train = pd.concat([no_cancer_train, cancer_train])\n",
    "data_test = pd.concat([no_cancer_test, cancer_test])\n",
    "data_train.shape, data_test.shape"
   ]
  },
  {
   "cell_type": "code",
   "execution_count": 38,
   "metadata": {},
   "outputs": [],
   "source": [
    "\n",
    "def custom_data_balancing(dataframe, data_type: str, split: float):\n",
    "\n",
    "    print(\"Create Train test split : \")\n",
    "\n",
    "    # Get labels\n",
    "    cancer = dataframe[dataframe.cancer == 1].copy()\n",
    "    no_cancer = dataframe[dataframe.cancer == 0].copy()\n",
    "\n",
    "    if data_type == \"ricard\":\n",
    "        cancer_50 = cancer._append([cancer] * 20, ignore_index=True)\n",
    "        no_cancer_50 = no_cancer.iloc[:25_000]\n",
    "        cancer = cancer_50\n",
    "        no_cancer = no_cancer_50\n",
    "\n",
    "    if data_type == \"under_sample\":\n",
    "        no_cancer_under = no_cancer.iloc[:1158]\n",
    "        no_cancer = no_cancer_under\n",
    "\n",
    "    if data_type == \"over_sample\":\n",
    "        cancer_over = cancer._append([cancer] * 45, ignore_index=True)\n",
    "        cancer = cancer_over\n",
    "\n",
    "    if data_type == \"custom\":\n",
    "        cancer_custom = cancer._append([cancer] * 15, ignore_index=True)\n",
    "        cancer = cancer_custom\n",
    "\n",
    "    print(f\"Shape Cancer : {cancer.shape}, No Cancer: {no_cancer.shape}\")\n",
    "    # Keep ratio\n",
    "    cancer_split = int(cancer.shape[0] * split)\n",
    "    no_cancer_split = int(no_cancer.shape[0] * split)\n",
    "\n",
    "    # Split Data\n",
    "    cancer_train = cancer.sample(frac=1.0, replace=False, random_state=4212).iloc[\n",
    "        :cancer_split\n",
    "    ]\n",
    "    cancer_test = cancer.sample(frac=1.0, replace=False, random_state=4212).iloc[\n",
    "        cancer_split:\n",
    "    ]\n",
    "    no_cancer_train = no_cancer.sample(frac=1.0, replace=False, random_state=4212).iloc[\n",
    "        :no_cancer_split\n",
    "    ]\n",
    "    no_cancer_test = no_cancer.sample(frac=1.0, replace=False, random_state=4212).iloc[\n",
    "        no_cancer_split:\n",
    "    ]\n",
    "\n",
    "    # Concat train & test\n",
    "    data_train = pd.concat([no_cancer_train, cancer_train])\n",
    "    data_test = pd.concat([no_cancer_test, cancer_test])\n",
    "\n",
    "    print(data_train.shape, data_test.shape)\n",
    "\n",
    "    return data_train, data_test"
   ]
  },
  {
   "cell_type": "code",
   "execution_count": 39,
   "metadata": {},
   "outputs": [],
   "source": [
    "\n",
    "def create_dataset(input: str = \"local\", data_type: str = 'all', ratio=0.8):\n",
    "    \"\"\"\n",
    "    Creates a dataset for model training.\n",
    "\n",
    "    Parameters:\n",
    "    - input: Specifies the source of the dataset, 'local' or 'cloud'.\n",
    "\n",
    "    Returns:\n",
    "    - TensorFlow dataset object.\n",
    "    \"\"\"\n",
    "    # local or cloud\n",
    "    # Load the dataset\n",
    "    if input == \"local\":\n",
    "        df = pd.read_csv(\"ready_to_train.csv\")\n",
    "    if input == \"cloud\":\n",
    "        df = pd.read_csv(\"gs://mammo_data/ready_to_train.csv\")\n",
    "\n",
    "    # Train / Test keeping ratio\n",
    "    data_train, data_test = custom_data_balancing(\n",
    "        dataframe= df, data_type= data_type, split=ratio\n",
    "    )\n",
    "\n",
    "    # Create a TensorFlow dataset\n",
    "    print(\"Create the train tensorflow dataset :\")\n",
    "    train_dataset = create_tensor_dataset(data_train)\n",
    "    print(\"Create the test tensorflow dataset :\")\n",
    "    test_dataset = create_tensor_dataset(data_test)\n",
    "    print(\"✅ Dataset created successfully.\")\n",
    "    return train_dataset, test_dataset\n",
    "\n",
    "\n",
    "\n",
    "def create_tensor_dataset(dataframe):\n",
    "    paths = dataframe[\"path\"].values\n",
    "    labels = dataframe[\"cancer\"].values\n",
    "\n",
    "    labels = tf.cast(labels, dtype=tf.int32)\n",
    "\n",
    "    dataset = tf.data.Dataset.from_tensor_slices((paths, labels))\n",
    "    dataset = dataset.map(load_and_process_image)\n",
    "\n",
    "    return dataset\n",
    "\n",
    "# Load and process images\n",
    "def load_and_process_image(file_path: str, label):\n",
    "    \"\"\"\n",
    "    Loads and processes an image file for model training.\n",
    "\n",
    "    Parameters:\n",
    "    - file_path: The path to the image file.\n",
    "    - label: The label associated with the image file.\n",
    "\n",
    "    Returns:\n",
    "    - Tuple containing the processed image and its label.\n",
    "    \"\"\"\n",
    "\n",
    "    img = tf.io.read_file(file_path)\n",
    "    img = tf.io.decode_jpeg(img, channels=1)\n",
    "    img = tf.image.resize(img, [DIM, DIM])  # Resize images\n",
    "    img = img / 255.0  # Normalize to [0,1]\n",
    "    return img, label"
   ]
  },
  {
   "cell_type": "code",
   "execution_count": 41,
   "metadata": {},
   "outputs": [
    {
     "name": "stdout",
     "output_type": "stream",
     "text": [
      "Create Train test split : \n",
      "Shape Cancer : (24318, 3), No Cancer: (25000, 3)\n",
      "(39454, 3) (9864, 3)\n",
      "Create the train tensorflow dataset :\n",
      "Create the test tensorflow dataset :\n",
      "✅ Dataset created successfully.\n",
      "Create Train test split : \n",
      "Shape Cancer : (1158, 3), No Cancer: (1158, 3)\n",
      "(1852, 3) (464, 3)\n",
      "Create the train tensorflow dataset :\n",
      "Create the test tensorflow dataset :\n",
      "✅ Dataset created successfully.\n",
      "Create Train test split : \n",
      "Shape Cancer : (53268, 3), No Cancer: (53552, 3)\n",
      "(85455, 3) (21365, 3)\n",
      "Create the train tensorflow dataset :\n",
      "Create the test tensorflow dataset :\n",
      "✅ Dataset created successfully.\n",
      "Create Train test split : \n",
      "Shape Cancer : (18528, 3), No Cancer: (53552, 3)\n",
      "(57663, 3) (14417, 3)\n",
      "Create the train tensorflow dataset :\n",
      "Create the test tensorflow dataset :\n",
      "✅ Dataset created successfully.\n"
     ]
    }
   ],
   "source": [
    "data_types = [\"ricard\",\n",
    "\"under_sample\",\n",
    "\"over_sample\",\n",
    "\"custom\"]\n",
    "\n",
    "for data_type in data_types:\n",
    "    create_dataset(data_type= data_type)"
   ]
  }
 ],
 "metadata": {
  "kernelspec": {
   "display_name": "project-1512",
   "language": "python",
   "name": "python3"
  },
  "language_info": {
   "codemirror_mode": {
    "name": "ipython",
    "version": 3
   },
   "file_extension": ".py",
   "mimetype": "text/x-python",
   "name": "python",
   "nbconvert_exporter": "python",
   "pygments_lexer": "ipython3",
   "version": "3.10.6"
  }
 },
 "nbformat": 4,
 "nbformat_minor": 2
}
